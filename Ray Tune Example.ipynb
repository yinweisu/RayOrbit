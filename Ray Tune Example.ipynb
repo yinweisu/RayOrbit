{
 "cells": [
  {
   "cell_type": "markdown",
   "id": "heavy-curtis",
   "metadata": {},
   "source": [
    "# Ray Tune Example\n",
    "First let's install ray"
   ]
  },
  {
   "cell_type": "code",
   "execution_count": 1,
   "id": "wireless-stack",
   "metadata": {},
   "outputs": [],
   "source": [
    "!pip install -q ray"
   ]
  },
  {
   "cell_type": "markdown",
   "id": "numerous-mechanism",
   "metadata": {},
   "source": [
    "Lauch up the ray cluster\n",
    "\n",
    "We've modified the namespace to match the current namespace"
   ]
  },
  {
   "cell_type": "code",
   "execution_count": 2,
   "id": "fossil-humanity",
   "metadata": {},
   "outputs": [
    {
     "name": "stdout",
     "output_type": "stream",
     "text": [
      "\u001b[37mCluster\u001b[39m: \u001b[1mexample-cluster\u001b[22m\n",
      "\n",
      "\u001b[33mLoaded cached provider configuration\u001b[39m\n",
      "\u001b[33mIf you experience issues with the cloud provider, try re-running the command with \u001b[1m--no-config-cache\u001b[22m\u001b[26m.\u001b[39m\n",
      "No head node found. Launching a new cluster. \u001b[4mConfirm [y/N]:\u001b[24m ^C\n",
      "\n",
      "Exiting...\n",
      "\u001b[0m"
     ]
    }
   ],
   "source": [
    "!ray up example-full.yaml"
   ]
  },
  {
   "cell_type": "markdown",
   "id": "missing-bolivia",
   "metadata": {},
   "source": [
    "Check the cluster got launched by"
   ]
  },
  {
   "cell_type": "code",
   "execution_count": 4,
   "id": "rapid-festival",
   "metadata": {},
   "outputs": [
    {
     "name": "stdout",
     "output_type": "stream",
     "text": [
      "NAME                                     READY   STATUS      RESTARTS   AGE\n",
      "efs-init-lake-creator-r8sht              0/1     Completed   0          7d22h\n",
      "example-cluster-ray-head-rj529           1/1     Running     0          21s\n",
      "example-cluster-ray-worker-t4gzv         1/1     Running     0          12s\n",
      "example-cluster-ray-worker-vpvjz         1/1     Running     0          12s\n",
      "jupyter-weisy                            1/1     Running     0          11m\n",
      "jupyter-xjshi--gluon-5ftest              1/1     Running     0          40m\n",
      "jupyterhub-5fd6b56b94-59nhs              1/1     Running     0          7d22h\n",
      "ray-test-job-4mtx5-8p8dq                 0/1     Completed   0          25m\n",
      "ray-test-job-9svlb-8brjt                 0/1     Error       0          20m\n",
      "ray-test-job-9svlb-nrjgz                 0/1     Completed   0          18m\n",
      "ray-test-job-9svlb-p6xs7                 0/1     Error       0          20m\n",
      "ray-test-job-9svlb-qk5dt                 0/1     Error       0          19m\n",
      "ray-test-job-9svlb-vs6v4                 0/1     Error       0          20m\n",
      "ray-test-job-hqdt9-2p98w                 0/1     Error       0          22m\n",
      "ray-test-job-hqdt9-bs5d5                 0/1     Error       0          22m\n",
      "ray-test-job-hqdt9-c47rk                 0/1     Error       0          22m\n",
      "ray-test-job-hqdt9-ds894                 0/1     Error       0          22m\n",
      "ray-test-job-hqdt9-kfvps                 0/1     Error       0          21m\n",
      "ray-test-job-hqdt9-ngvlv                 0/1     Error       0          20m\n",
      "ray-test-job-hqdt9-qhtm4                 0/1     Completed   0          17m\n",
      "ray-test-job-nd2hp-55gjn                 0/1     Error       0          2d2h\n",
      "ray-test-job-nd2hp-5nmqn                 0/1     Error       0          2d2h\n",
      "ray-test-job-nd2hp-cv7ng                 0/1     Error       0          2d2h\n",
      "ray-test-job-nd2hp-mz5sv                 0/1     Error       0          2d2h\n",
      "ray-test-job-nd2hp-pwsb5                 0/1     Error       0          2d2h\n",
      "ray-test-job-nd2hp-slzjq                 0/1     Error       0          2d2h\n",
      "ray-test-job-srxwf-44ghw                 0/1     Error       0          20m\n",
      "ray-test-job-srxwf-76xmd                 0/1     Error       0          21m\n",
      "ray-test-job-srxwf-82mdh                 0/1     Error       0          21m\n",
      "ray-test-job-srxwf-f7tmd                 0/1     Error       0          20m\n",
      "ray-test-job-srxwf-kswwj                 0/1     Completed   0          18m\n",
      "ray-test-job-srxwf-ll72f                 0/1     Error       0          19m\n",
      "ray-test-job-vdfcv-7bxj2                 0/1     Error       0          21m\n",
      "ray-test-job-vdfcv-cdgbn                 0/1     Completed   0          18m\n",
      "ray-test-job-vdfcv-wkbzf                 0/1     Error       0          21m\n",
      "ray-test-job-vdfcv-xwfkr                 0/1     Error       0          21m\n",
      "ray-test-job-vdfcv-xz26r                 0/1     Error       0          21m\n",
      "ray-test-job-zxvsb-28lm2                 0/1     Completed   0          18m\n",
      "team-script-team-script-launcher-4g2cc   0/1     Pending     0          7d22h\n"
     ]
    }
   ],
   "source": [
    "!kubectl get pods"
   ]
  },
  {
   "cell_type": "markdown",
   "id": "stunning-order",
   "metadata": {},
   "source": [
    "To create a sample job:"
   ]
  },
  {
   "cell_type": "code",
   "execution_count": 5,
   "id": "established-broadcasting",
   "metadata": {},
   "outputs": [
    {
     "name": "stdout",
     "output_type": "stream",
     "text": [
      "job.batch/ray-test-job-rlh5n created\n"
     ]
    }
   ],
   "source": [
    "!kubectl create -f job-example.yaml"
   ]
  },
  {
   "cell_type": "code",
   "execution_count": 8,
   "id": "allied-delaware",
   "metadata": {},
   "outputs": [
    {
     "name": "stdout",
     "output_type": "stream",
     "text": [
      "NAME                                     READY   STATUS      RESTARTS   AGE\n",
      "efs-init-lake-creator-r8sht              0/1     Completed   0          7d22h\n",
      "example-cluster-ray-head-rj529           1/1     Running     0          4m\n",
      "example-cluster-ray-worker-t4gzv         1/1     Running     0          3m51s\n",
      "example-cluster-ray-worker-vpvjz         1/1     Running     0          3m51s\n",
      "jupyter-weisy                            1/1     Running     0          14m\n",
      "jupyter-xjshi--gluon-5ftest              1/1     Running     0          44m\n",
      "jupyterhub-5fd6b56b94-59nhs              1/1     Running     0          7d22h\n",
      "ray-test-job-4mtx5-8p8dq                 0/1     Completed   0          29m\n",
      "ray-test-job-9svlb-nrjgz                 0/1     Completed   0          21m\n",
      "ray-test-job-hqdt9-qhtm4                 0/1     Completed   0          21m\n",
      "ray-test-job-rlh5n-pwbbt                 0/1     Completed   0          3m32s\n",
      "ray-test-job-srxwf-kswwj                 0/1     Completed   0          22m\n",
      "ray-test-job-vdfcv-cdgbn                 0/1     Completed   0          21m\n",
      "ray-test-job-zxvsb-28lm2                 0/1     Completed   0          22m\n",
      "team-script-team-script-launcher-4g2cc   0/1     Pending     0          7d22h\n"
     ]
    }
   ],
   "source": [
    "!kubectl get pods"
   ]
  },
  {
   "cell_type": "markdown",
   "id": "shared-pathology",
   "metadata": {},
   "source": [
    "Find the pod we just created and log it"
   ]
  },
  {
   "cell_type": "code",
   "execution_count": 10,
   "id": "elegant-idaho",
   "metadata": {},
   "outputs": [
    {
     "name": "stdout",
     "output_type": "stream",
     "text": [
      "total 16\n",
      "drwxr-xr-x 2 ray users 6144 Apr  7 14:02 .\n",
      "drwxrwxrwx 7 ray users 6144 Mar 19 11:53 ..\n",
      "-rw-r--r-- 1 ray users  749 Apr  7 14:02 job-example.yaml\n",
      "-rw-r--r-- 1 ray users  818 Apr  7 13:59 job_example.py\n",
      "2021-04-07 14:18:32,568\tINFO services.py:1264 -- View the Ray dashboard at \u001b[1m\u001b[32mhttp://127.0.0.1:8265\u001b[39m\u001b[22m\n",
      "2021-04-07 14:18:32,569\tWARNING services.py:1717 -- WARNING: The object store is using /tmp instead of /dev/shm because /dev/shm has only 67108864 bytes available. This will harm performance! You may be able to free up space by deleting files in /dev/shm. If you are inside a Docker container, you can increase /dev/shm size by passing '--shm-size=10.24gb' to 'docker run' (or add it to the run_options list in a Ray cluster config). Make sure to set this to more than 30% of available RAM.\n",
      "2021-04-07 14:18:33,907\tWARNING function_runner.py:545 -- Function checkpointing is disabled. This may result in unexpected behavior when using checkpointing features or certain schedulers. To enable, set the train function arguments to be `func(config, checkpoint_dir=None)`.\n",
      "2021-04-07 14:18:34,001\tWARNING tune.py:494 -- Tune detects GPUs, but no trials are using GPUs. To enable trials to use GPUs, set tune.run(resources_per_trial={'gpu': 1}...) which allows Tune to expose 1 GPU to each trial. You can also override `Trainable.default_resource_request` if using the Trainable API.\n",
      "2021-04-07 14:18:35,504\tINFO tune.py:549 -- Total run time: 1.60 seconds (1.39 seconds for the tuning loop).\n",
      "== Status ==\n",
      "Memory usage on this node: 5.5/186.8 GiB\n",
      "Using FIFO scheduling algorithm.\n",
      "Resources requested: 1.0/1 CPUs, 0/4 GPUs, 0.0/168.13 GiB heap, 0.0/9.31 GiB objects (0.0/1.0 accelerator_type:T4)\n",
      "Result logdir: /home/ray/ray_results/training_function_2021-04-07_14-18-33\n",
      "Number of trials: 3/3 (2 PENDING, 1 RUNNING)\n",
      "+-------------------------------+----------+-------+---------+--------+\n",
      "| Trial name                    | status   | loc   |   alpha |   beta |\n",
      "|-------------------------------+----------+-------+---------+--------|\n",
      "| training_function_cf2ea_00000 | RUNNING  |       |   0.001 |      2 |\n",
      "| training_function_cf2ea_00001 | PENDING  |       |   0.01  |      3 |\n",
      "| training_function_cf2ea_00002 | PENDING  |       |   0.1   |      3 |\n",
      "+-------------------------------+----------+-------+---------+--------+\n",
      "\n",
      "\n",
      "Result for training_function_cf2ea_00000:\n",
      "  date: 2021-04-07_14-18-34\n",
      "  done: false\n",
      "  experiment_id: c721fd082ba74420b31efda6e9da5dc2\n",
      "  hostname: ray-test-job-rlh5n-pwbbt\n",
      "  iterations_since_restore: 1\n",
      "  mean_loss: 10.2\n",
      "  neg_mean_loss: -10.2\n",
      "  node_ip: 10.0.20.227\n",
      "  pid: 122\n",
      "  time_since_restore: 0.00011372566223144531\n",
      "  time_this_iter_s: 0.00011372566223144531\n",
      "  time_total_s: 0.00011372566223144531\n",
      "  timestamp: 1617830314\n",
      "  timesteps_since_restore: 0\n",
      "  training_iteration: 1\n",
      "  trial_id: cf2ea_00000\n",
      "  \n",
      "Result for training_function_cf2ea_00000:\n",
      "  date: 2021-04-07_14-18-34\n",
      "  done: true\n",
      "  experiment_id: c721fd082ba74420b31efda6e9da5dc2\n",
      "  experiment_tag: 0_alpha=0.001,beta=2\n",
      "  hostname: ray-test-job-rlh5n-pwbbt\n",
      "  iterations_since_restore: 10\n",
      "  mean_loss: 10.191008092716553\n",
      "  neg_mean_loss: -10.191008092716553\n",
      "  node_ip: 10.0.20.227\n",
      "  pid: 122\n",
      "  time_since_restore: 0.0225527286529541\n",
      "  time_this_iter_s: 0.0024521350860595703\n",
      "  time_total_s: 0.0225527286529541\n",
      "  timestamp: 1617830314\n",
      "  timesteps_since_restore: 0\n",
      "  training_iteration: 10\n",
      "  trial_id: cf2ea_00000\n",
      "  \n",
      "Result for training_function_cf2ea_00001:\n",
      "  date: 2021-04-07_14-18-34\n",
      "  done: false\n",
      "  experiment_id: 81b048d0d6924d5fb6b8aeb7712458ed\n",
      "  hostname: ray-test-job-rlh5n-pwbbt\n",
      "  iterations_since_restore: 1\n",
      "  mean_loss: 10.3\n",
      "  neg_mean_loss: -10.3\n",
      "  node_ip: 10.0.20.227\n",
      "  pid: 177\n",
      "  time_since_restore: 0.00012636184692382812\n",
      "  time_this_iter_s: 0.00012636184692382812\n",
      "  time_total_s: 0.00012636184692382812\n",
      "  timestamp: 1617830314\n",
      "  timesteps_since_restore: 0\n",
      "  training_iteration: 1\n",
      "  trial_id: cf2ea_00001\n",
      "  \n",
      "Result for training_function_cf2ea_00001:\n",
      "  date: 2021-04-07_14-18-34\n",
      "  done: true\n",
      "  experiment_id: 81b048d0d6924d5fb6b8aeb7712458ed\n",
      "  experiment_tag: 1_alpha=0.01,beta=3\n",
      "  hostname: ray-test-job-rlh5n-pwbbt\n",
      "  iterations_since_restore: 10\n",
      "  mean_loss: 10.210802775024778\n",
      "  neg_mean_loss: -10.210802775024778\n",
      "  node_ip: 10.0.20.227\n",
      "  pid: 177\n",
      "  time_since_restore: 0.02326655387878418\n",
      "  time_this_iter_s: 0.0023429393768310547\n",
      "  time_total_s: 0.02326655387878418\n",
      "  timestamp: 1617830314\n",
      "  timesteps_since_restore: 0\n",
      "  training_iteration: 10\n",
      "  trial_id: cf2ea_00001\n",
      "  \n",
      "Result for training_function_cf2ea_00002:\n",
      "  date: 2021-04-07_14-18-35\n",
      "  done: false\n",
      "  experiment_id: 79613c863fe14a1f86c69da7cf91908e\n",
      "  hostname: ray-test-job-rlh5n-pwbbt\n",
      "  iterations_since_restore: 1\n",
      "  mean_loss: 10.3\n",
      "  neg_mean_loss: -10.3\n",
      "  node_ip: 10.0.20.227\n",
      "  pid: 203\n",
      "  time_since_restore: 0.00016689300537109375\n",
      "  time_this_iter_s: 0.00016689300537109375\n",
      "  time_total_s: 0.00016689300537109375\n",
      "  timestamp: 1617830315\n",
      "  timesteps_since_restore: 0\n",
      "  training_iteration: 1\n",
      "  trial_id: cf2ea_00002\n",
      "  \n",
      "Result for training_function_cf2ea_00002:\n",
      "  date: 2021-04-07_14-18-35\n",
      "  done: true\n",
      "  experiment_id: 79613c863fe14a1f86c69da7cf91908e\n",
      "  experiment_tag: 2_alpha=0.1,beta=3\n",
      "  hostname: ray-test-job-rlh5n-pwbbt\n",
      "  iterations_since_restore: 10\n",
      "  mean_loss: 9.474311926605504\n",
      "  neg_mean_loss: -9.474311926605504\n",
      "  node_ip: 10.0.20.227\n",
      "  pid: 203\n",
      "  time_since_restore: 0.018103599548339844\n",
      "  time_this_iter_s: 0.0022470951080322266\n",
      "  time_total_s: 0.018103599548339844\n",
      "  timestamp: 1617830315\n",
      "  timesteps_since_restore: 0\n",
      "  training_iteration: 10\n",
      "  trial_id: cf2ea_00002\n",
      "  \n",
      "== Status ==\n",
      "Memory usage on this node: 5.5/186.8 GiB\n",
      "Using FIFO scheduling algorithm.\n",
      "Resources requested: 0/1 CPUs, 0/4 GPUs, 0.0/168.13 GiB heap, 0.0/9.31 GiB objects (0.0/1.0 accelerator_type:T4)\n",
      "Result logdir: /home/ray/ray_results/training_function_2021-04-07_14-18-33\n",
      "Number of trials: 3/3 (3 TERMINATED)\n",
      "+-------------------------------+------------+-------+---------+--------+----------+--------+------------------+-----------------+\n",
      "| Trial name                    | status     | loc   |   alpha |   beta |     loss |   iter |   total time (s) |   neg_mean_loss |\n",
      "|-------------------------------+------------+-------+---------+--------+----------+--------+------------------+-----------------|\n",
      "| training_function_cf2ea_00000 | TERMINATED |       |   0.001 |      2 | 10.191   |     10 |        0.0225527 |       -10.191   |\n",
      "| training_function_cf2ea_00001 | TERMINATED |       |   0.01  |      3 | 10.2108  |     10 |        0.0232666 |       -10.2108  |\n",
      "| training_function_cf2ea_00002 | TERMINATED |       |   0.1   |      3 |  9.47431 |     10 |        0.0181036 |        -9.47431 |\n",
      "+-------------------------------+------------+-------+---------+--------+----------+--------+------------------+-----------------+\n",
      "\n",
      "\n",
      "Best config:  {'alpha': 0.1, 'beta': 3}\n",
      "arbitrary\n"
     ]
    }
   ],
   "source": [
    "!kubectl logs ray-test-job-rlh5n-pwbbt"
   ]
  }
 ],
 "metadata": {
  "kernelspec": {
   "display_name": "Python 3",
   "language": "python",
   "name": "python3"
  },
  "language_info": {
   "codemirror_mode": {
    "name": "ipython",
    "version": 3
   },
   "file_extension": ".py",
   "mimetype": "text/x-python",
   "name": "python",
   "nbconvert_exporter": "python",
   "pygments_lexer": "ipython3",
   "version": "3.8.8"
  }
 },
 "nbformat": 4,
 "nbformat_minor": 5
}
